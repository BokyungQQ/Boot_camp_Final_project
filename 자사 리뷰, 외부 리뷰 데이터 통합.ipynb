{
  "cells": [
    {
      "cell_type": "markdown",
      "metadata": {
        "id": "view-in-github",
        "colab_type": "text"
      },
      "source": [
        "<a href=\"https://colab.research.google.com/github/BokyungQQ/Boot_camp_Final_project/blob/main/%EC%9E%90%EC%82%AC%20%EB%A6%AC%EB%B7%B0%2C%20%EC%99%B8%EB%B6%80%20%EB%A6%AC%EB%B7%B0%20%EB%8D%B0%EC%9D%B4%ED%84%B0%20%ED%86%B5%ED%95%A9.ipynb\" target=\"_parent\"><img src=\"https://colab.research.google.com/assets/colab-badge.svg\" alt=\"Open In Colab\"/></a>"
      ]
    },
    {
      "cell_type": "code",
      "execution_count": null,
      "id": "144e5a74",
      "metadata": {
        "id": "144e5a74"
      },
      "outputs": [],
      "source": [
        "import pandas as pd\n",
        "import numpy as np\n",
        "import seaborn as sns\n",
        "import matplotlib.pyplot as plt\n",
        "import re\n",
        "plt.rc('font', family='NanumGothic')"
      ]
    },
    {
      "cell_type": "markdown",
      "id": "9d2aa676",
      "metadata": {
        "id": "9d2aa676"
      },
      "source": [
        "## **GV bag**"
      ]
    },
    {
      "cell_type": "code",
      "execution_count": null,
      "id": "7a95af14",
      "metadata": {
        "id": "7a95af14"
      },
      "outputs": [],
      "source": [
        "GV = pd.read_csv('/content/Gvbag.csv')"
      ]
    },
    {
      "cell_type": "code",
      "execution_count": null,
      "id": "d008def8",
      "metadata": {
        "id": "d008def8"
      },
      "outputs": [],
      "source": [
        "GV.info()"
      ]
    },
    {
      "cell_type": "code",
      "execution_count": null,
      "id": "8236549d",
      "metadata": {
        "scrolled": true,
        "id": "8236549d"
      },
      "outputs": [],
      "source": [
        "def add_info(df, product_name):\n",
        "    df['상품명'] = product_name\n",
        "    df['상품명_옵션'] = product_name + '_' + df['색상']\n",
        "    df['플랫폼'] = '외부'\n",
        "\n",
        "add_info(GV, 'GVbag')\n",
        "GV"
      ]
    },
    {
      "cell_type": "code",
      "execution_count": null,
      "id": "ee049a12",
      "metadata": {
        "scrolled": true,
        "id": "ee049a12"
      },
      "outputs": [],
      "source": [
        "# 한달사용기 -> 후기 위치 이동\n",
        "def move_review(df):\n",
        "    for i in range(len(df)):\n",
        "        if df['후기'][i] == '한달사용기':\n",
        "            df['후기'][i] = df['한달사용기'][i]\n",
        "\n",
        "move_review(GV)\n",
        "GV"
      ]
    },
    {
      "cell_type": "code",
      "execution_count": null,
      "id": "2596af6f",
      "metadata": {
        "id": "2596af6f"
      },
      "outputs": [],
      "source": [
        "# 띄어쓰기 정리\n",
        "GV['항목1'] = GV['항목1'].str.strip()\n",
        "GV['항목2'] = GV['항목2'].str.strip()\n",
        "GV['항목3'] = GV['항목3'].str.strip()"
      ]
    },
    {
      "cell_type": "code",
      "execution_count": null,
      "id": "72454c27",
      "metadata": {
        "scrolled": true,
        "id": "72454c27"
      },
      "outputs": [],
      "source": [
        "# 평가 항목 컬럼 생성\n",
        "def new_column(df):\n",
        "    df['사이즈'] = \"\"\n",
        "    df['무게감'] = \"\"\n",
        "    df['디자인'] = \"\"\n",
        "    df['퀄리티'] = \"\"\n",
        "    df['마감처리'] = \"\"\n",
        "\n",
        "new_column(GV)\n",
        "GV"
      ]
    },
    {
      "cell_type": "code",
      "execution_count": null,
      "id": "8a17bbe8",
      "metadata": {
        "id": "8a17bbe8"
      },
      "outputs": [],
      "source": [
        "def process_data(df):\n",
        "    for i in range(len(df)):\n",
        "        for j in range(1, 4):  # Assuming there are three sets of columns: 항목1, 평가1, 항목2, 평가2, 항목3, 평가3\n",
        "            item_col = f'항목{j}'\n",
        "            evaluation_col = f'평가{j}'\n",
        "\n",
        "            if df[item_col][i] == '사이즈':\n",
        "                df['사이즈'][i] = df[evaluation_col][i]\n",
        "            elif df[item_col][i] in [\"무게\", \"무게감\"]:\n",
        "                df['무게감'][i] = df[evaluation_col][i]\n",
        "            elif df[item_col][i] == '디자인':\n",
        "                df['디자인'][i] = df[evaluation_col][i]\n",
        "            elif df[item_col][i] == '퀄리티':\n",
        "                df['퀄리티'][i] = df[evaluation_col][i]\n",
        "            elif df[item_col][i] == '마감처리':\n",
        "                df['마감처리'][i] = df[evaluation_col][i]"
      ]
    },
    {
      "cell_type": "code",
      "execution_count": null,
      "id": "1cbbdc01",
      "metadata": {
        "scrolled": true,
        "id": "1cbbdc01"
      },
      "outputs": [],
      "source": [
        "# 항목 위치 이동\n",
        "process_data(GV)\n",
        "GV"
      ]
    },
    {
      "cell_type": "code",
      "execution_count": null,
      "id": "52551576",
      "metadata": {
        "scrolled": true,
        "id": "52551576"
      },
      "outputs": [],
      "source": [
        "GV = GV[['상품명','상품명_옵션','플랫폼','평점','사이즈','무게감','디자인','퀄리티','마감처리','후기']]\n",
        "GV"
      ]
    },
    {
      "cell_type": "code",
      "execution_count": null,
      "id": "6e4deb26",
      "metadata": {
        "id": "6e4deb26"
      },
      "outputs": [],
      "source": [
        "#GV.to_csv('./GV.csv')"
      ]
    },
    {
      "cell_type": "code",
      "execution_count": null,
      "id": "0ecd198d",
      "metadata": {
        "id": "0ecd198d"
      },
      "outputs": [],
      "source": [
        "# # 한달사용기 -> 후기 위치 이동\n",
        "# for i in range(len(GV)):\n",
        "#     if GV['후기'][i] == '한달사용기':\n",
        "#         GV['후기'][i] = GV['한달사용기'][i]\n",
        "\n",
        "# #\n",
        "# GV['사이즈'] = \"\"\n",
        "# GV['무게감'] = \"\"\n",
        "# GV['디자인'] = \"\"\n",
        "# GV['퀄리티'] = \"\"\n",
        "# GV['마감처리'] = \"\"\n",
        "\n",
        "\n",
        "# # 항목 수정\n",
        "# for i in range(len(GV)):\n",
        "\n",
        "#     if GV['항목1'][i] == '사이즈':\n",
        "#         GV['사이즈'][i] = GV['평가1'][i]\n",
        "#     elif GV['항목1'][i] in [\"무게\", \"무게감\"]:\n",
        "#         GV['무게감'][i] = GV['평가1'][i]\n",
        "#     elif GV['항목1'][i] == '디자인':\n",
        "#         GV['디자인'][i] = GV['평가1'][i]\n",
        "#     elif GV['항목1'][i] == '퀄리티':\n",
        "#         GV['퀄리티'][i] = GV['평가1'][i]\n",
        "#     elif GV['항목1'][i] == '마감처리':\n",
        "#         GV['마감처리'][i] = GV['평가1'][i]\n",
        "#     else:\n",
        "#         None\n",
        "\n",
        "\n",
        "#     if GV['항목2'][i] == '사이즈':\n",
        "#         GV['사이즈'][i] = GV['평가2'][i]\n",
        "#     elif GV['항목2'][i] in [\"무게\", \"무게감\"]:\n",
        "#         GV['무게감'][i] = GV['평가2'][i]\n",
        "#     elif GV['항목2'][i] == '디자인':\n",
        "#         GV['디자인'][i] = GV['평가2'][i]\n",
        "#     elif GV['항목2'][i] == '퀄리티':\n",
        "#         GV['퀄리티'][i] = GV['평가2'][i]\n",
        "#     elif GV['항목2'][i] == '마감처리':\n",
        "#         GV['마감처리'][i] = GV['평가2'][i]\n",
        "#     else:\n",
        "#         None\n",
        "\n",
        "\n",
        "#     if GV['항목3'][i] == '사이즈':\n",
        "#         GV['사이즈'][i] = GV['평가3'][i]\n",
        "#     elif GV['항목3'][i] in [\"무게\", \"무게감\"]:\n",
        "#         GV['무게감'][i] = GV['평가3'][i]\n",
        "#     elif GV['항목3'][i] == '디자인':\n",
        "#         GV['디자인'][i] = GV['평가3'][i]\n",
        "#     elif GV['항목3'][i] == '퀄리티':\n",
        "#         GV['퀄리티'][i] = GV['평가3'][i]\n",
        "#     elif GV['항목3'][i] == '마감처리':\n",
        "#         GV['마감처리'][i] = GV['평가3'][i]\n",
        "#     else:\n",
        "#         None\n",
        "\n",
        "# GV"
      ]
    },
    {
      "cell_type": "markdown",
      "source": [
        "## 데이터 통합"
      ],
      "metadata": {
        "id": "Pp00H07qcynM"
      },
      "id": "Pp00H07qcynM"
    },
    {
      "cell_type": "code",
      "source": [
        "Review_zig_naver = pd.concat([GV,G,j,B,U,S,F], axis=0)\n",
        "Review_zig_naver"
      ],
      "metadata": {
        "id": "35vJwjhJc7PB"
      },
      "id": "35vJwjhJc7PB",
      "execution_count": null,
      "outputs": []
    },
    {
      "cell_type": "code",
      "source": [
        "C_review = pd.read_csv('/content/자사_review_컬럼정리.csv')\n",
        "C_review = C_review[['상품명','상품명_옵션','플랫폼','평점','사이즈','무게감','디자인','퀄리티','마감처리','후기']]\n",
        "C_review"
      ],
      "metadata": {
        "id": "69yC4zUDgqTb"
      },
      "id": "69yC4zUDgqTb",
      "execution_count": null,
      "outputs": []
    },
    {
      "cell_type": "code",
      "source": [
        "# 자사 + 외부 리뷰 데이터 합본\n",
        "Review_Final = pd.concat([Review_zig_naver,C_review], axis=0)\n",
        "Review_Final"
      ],
      "metadata": {
        "id": "uucwK0Xmjuls"
      },
      "id": "uucwK0Xmjuls",
      "execution_count": null,
      "outputs": []
    },
    {
      "cell_type": "code",
      "source": [
        "Review_Final.to_csv('./Review_Final.csv')"
      ],
      "metadata": {
        "id": "YpQfztKUkbfZ"
      },
      "id": "YpQfztKUkbfZ",
      "execution_count": null,
      "outputs": []
    }
  ],
  "metadata": {
    "kernelspec": {
      "display_name": "Python 3 (ipykernel)",
      "language": "python",
      "name": "python3"
    },
    "language_info": {
      "codemirror_mode": {
        "name": "ipython",
        "version": 3
      },
      "file_extension": ".py",
      "mimetype": "text/x-python",
      "name": "python",
      "nbconvert_exporter": "python",
      "pygments_lexer": "ipython3",
      "version": "3.9.12"
    },
    "toc": {
      "base_numbering": 1,
      "nav_menu": {},
      "number_sections": true,
      "sideBar": true,
      "skip_h1_title": false,
      "title_cell": "Table of Contents",
      "title_sidebar": "Contents",
      "toc_cell": false,
      "toc_position": {},
      "toc_section_display": true,
      "toc_window_display": false
    },
    "colab": {
      "provenance": [],
      "toc_visible": true,
      "include_colab_link": true
    }
  },
  "nbformat": 4,
  "nbformat_minor": 5
}