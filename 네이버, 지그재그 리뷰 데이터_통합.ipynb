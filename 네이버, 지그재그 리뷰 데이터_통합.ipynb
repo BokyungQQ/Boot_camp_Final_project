{
  "cells": [
    {
      "cell_type": "markdown",
      "metadata": {
        "id": "view-in-github",
        "colab_type": "text"
      },
      "source": [
        "<a href=\"https://colab.research.google.com/github/BokyungQQ/data_boot_camp_final_projet/blob/main/%EB%84%A4%EC%9D%B4%EB%B2%84%2C%20%EC%A7%80%EA%B7%B8%EC%9E%AC%EA%B7%B8%20%EB%A6%AC%EB%B7%B0%20%EB%8D%B0%EC%9D%B4%ED%84%B0_%ED%86%B5%ED%95%A9.ipynb\" target=\"_parent\"><img src=\"https://colab.research.google.com/assets/colab-badge.svg\" alt=\"Open In Colab\"/></a>"
      ]
    },
    {
      "cell_type": "code",
      "execution_count": null,
      "id": "144e5a74",
      "metadata": {
        "id": "144e5a74"
      },
      "outputs": [],
      "source": [
        "import pandas as pd\n",
        "import numpy as np\n",
        "import seaborn as sns\n",
        "import matplotlib.pyplot as plt\n",
        "import re\n",
        "plt.rc('font', family='NanumGothic')"
      ]
    },
    {
      "cell_type": "code",
      "execution_count": null,
      "id": "568de470",
      "metadata": {
        "id": "568de470"
      },
      "outputs": [],
      "source": [
        "customers = pd.read_csv('/content/user.csv')\n",
        "order = pd.read_csv('/content/order.csv')\n",
        "review = pd.read_csv('/content/review.csv')\n",
        "products = pd.read_csv('/content/상품 리스트.csv')"
      ]
    },
    {
      "cell_type": "markdown",
      "id": "9d2aa676",
      "metadata": {
        "id": "9d2aa676"
      },
      "source": [
        "## **GV bag**"
      ]
    },
    {
      "cell_type": "code",
      "execution_count": null,
      "id": "7a95af14",
      "metadata": {
        "id": "7a95af14"
      },
      "outputs": [],
      "source": [
        "GV = pd.read_csv('/content/Gvbag.csv')"
      ]
    },
    {
      "cell_type": "code",
      "execution_count": null,
      "id": "d008def8",
      "metadata": {
        "id": "d008def8"
      },
      "outputs": [],
      "source": [
        "GV.info()"
      ]
    },
    {
      "cell_type": "code",
      "execution_count": null,
      "id": "8236549d",
      "metadata": {
        "scrolled": true,
        "id": "8236549d"
      },
      "outputs": [],
      "source": [
        "def add_info(df, product_name):\n",
        "    df['상품명'] = product_name\n",
        "    df['상품명_옵션'] = product_name + '_' + df['색상']\n",
        "    df['플랫폼'] = '외부'\n",
        "\n",
        "add_info(GV, 'GVbag')\n",
        "GV"
      ]
    },
    {
      "cell_type": "code",
      "execution_count": null,
      "id": "ee049a12",
      "metadata": {
        "scrolled": true,
        "id": "ee049a12"
      },
      "outputs": [],
      "source": [
        "# 한달사용기 -> 후기 위치 이동\n",
        "def move_review(df):\n",
        "    for i in range(len(df)):\n",
        "        if df['후기'][i] == '한달사용기':\n",
        "            df['후기'][i] = df['한달사용기'][i]\n",
        "\n",
        "move_review(GV)\n",
        "GV"
      ]
    },
    {
      "cell_type": "code",
      "execution_count": null,
      "id": "2596af6f",
      "metadata": {
        "id": "2596af6f"
      },
      "outputs": [],
      "source": [
        "# 띄어쓰기 정리\n",
        "GV['항목1'] = GV['항목1'].str.strip()\n",
        "GV['항목2'] = GV['항목2'].str.strip()\n",
        "GV['항목3'] = GV['항목3'].str.strip()"
      ]
    },
    {
      "cell_type": "code",
      "execution_count": null,
      "id": "72454c27",
      "metadata": {
        "scrolled": true,
        "id": "72454c27"
      },
      "outputs": [],
      "source": [
        "# 평가 항목 컬럼 생성\n",
        "def new_column(df):\n",
        "    df['사이즈'] = \"\"\n",
        "    df['무게감'] = \"\"\n",
        "    df['디자인'] = \"\"\n",
        "    df['퀄리티'] = \"\"\n",
        "    df['마감처리'] = \"\"\n",
        "\n",
        "new_column(GV)\n",
        "GV"
      ]
    },
    {
      "cell_type": "code",
      "execution_count": null,
      "id": "8a17bbe8",
      "metadata": {
        "id": "8a17bbe8"
      },
      "outputs": [],
      "source": [
        "def process_data(df):\n",
        "    for i in range(len(df)):\n",
        "        for j in range(1, 4):  # Assuming there are three sets of columns: 항목1, 평가1, 항목2, 평가2, 항목3, 평가3\n",
        "            item_col = f'항목{j}'\n",
        "            evaluation_col = f'평가{j}'\n",
        "\n",
        "            if df[item_col][i] == '사이즈':\n",
        "                df['사이즈'][i] = df[evaluation_col][i]\n",
        "            elif df[item_col][i] in [\"무게\", \"무게감\"]:\n",
        "                df['무게감'][i] = df[evaluation_col][i]\n",
        "            elif df[item_col][i] == '디자인':\n",
        "                df['디자인'][i] = df[evaluation_col][i]\n",
        "            elif df[item_col][i] == '퀄리티':\n",
        "                df['퀄리티'][i] = df[evaluation_col][i]\n",
        "            elif df[item_col][i] == '마감처리':\n",
        "                df['마감처리'][i] = df[evaluation_col][i]"
      ]
    },
    {
      "cell_type": "code",
      "execution_count": null,
      "id": "1cbbdc01",
      "metadata": {
        "scrolled": true,
        "id": "1cbbdc01"
      },
      "outputs": [],
      "source": [
        "# 항목 위치 이동\n",
        "process_data(GV)\n",
        "GV"
      ]
    },
    {
      "cell_type": "code",
      "execution_count": null,
      "id": "52551576",
      "metadata": {
        "scrolled": true,
        "id": "52551576"
      },
      "outputs": [],
      "source": [
        "GV = GV[['상품명','상품명_옵션','플랫폼','평점','사이즈','무게감','디자인','퀄리티','마감처리','후기']]\n",
        "GV"
      ]
    },
    {
      "cell_type": "code",
      "execution_count": null,
      "id": "6e4deb26",
      "metadata": {
        "id": "6e4deb26"
      },
      "outputs": [],
      "source": [
        "#GV.to_csv('./GV.csv')"
      ]
    },
    {
      "cell_type": "code",
      "execution_count": null,
      "id": "0ecd198d",
      "metadata": {
        "id": "0ecd198d"
      },
      "outputs": [],
      "source": [
        "# # 한달사용기 -> 후기 위치 이동\n",
        "# for i in range(len(GV)):\n",
        "#     if GV['후기'][i] == '한달사용기':\n",
        "#         GV['후기'][i] = GV['한달사용기'][i]\n",
        "\n",
        "# #\n",
        "# GV['사이즈'] = \"\"\n",
        "# GV['무게감'] = \"\"\n",
        "# GV['디자인'] = \"\"\n",
        "# GV['퀄리티'] = \"\"\n",
        "# GV['마감처리'] = \"\"\n",
        "\n",
        "\n",
        "# # 항목 수정\n",
        "# for i in range(len(GV)):\n",
        "\n",
        "#     if GV['항목1'][i] == '사이즈':\n",
        "#         GV['사이즈'][i] = GV['평가1'][i]\n",
        "#     elif GV['항목1'][i] in [\"무게\", \"무게감\"]:\n",
        "#         GV['무게감'][i] = GV['평가1'][i]\n",
        "#     elif GV['항목1'][i] == '디자인':\n",
        "#         GV['디자인'][i] = GV['평가1'][i]\n",
        "#     elif GV['항목1'][i] == '퀄리티':\n",
        "#         GV['퀄리티'][i] = GV['평가1'][i]\n",
        "#     elif GV['항목1'][i] == '마감처리':\n",
        "#         GV['마감처리'][i] = GV['평가1'][i]\n",
        "#     else:\n",
        "#         None\n",
        "\n",
        "\n",
        "#     if GV['항목2'][i] == '사이즈':\n",
        "#         GV['사이즈'][i] = GV['평가2'][i]\n",
        "#     elif GV['항목2'][i] in [\"무게\", \"무게감\"]:\n",
        "#         GV['무게감'][i] = GV['평가2'][i]\n",
        "#     elif GV['항목2'][i] == '디자인':\n",
        "#         GV['디자인'][i] = GV['평가2'][i]\n",
        "#     elif GV['항목2'][i] == '퀄리티':\n",
        "#         GV['퀄리티'][i] = GV['평가2'][i]\n",
        "#     elif GV['항목2'][i] == '마감처리':\n",
        "#         GV['마감처리'][i] = GV['평가2'][i]\n",
        "#     else:\n",
        "#         None\n",
        "\n",
        "\n",
        "#     if GV['항목3'][i] == '사이즈':\n",
        "#         GV['사이즈'][i] = GV['평가3'][i]\n",
        "#     elif GV['항목3'][i] in [\"무게\", \"무게감\"]:\n",
        "#         GV['무게감'][i] = GV['평가3'][i]\n",
        "#     elif GV['항목3'][i] == '디자인':\n",
        "#         GV['디자인'][i] = GV['평가3'][i]\n",
        "#     elif GV['항목3'][i] == '퀄리티':\n",
        "#         GV['퀄리티'][i] = GV['평가3'][i]\n",
        "#     elif GV['항목3'][i] == '마감처리':\n",
        "#         GV['마감처리'][i] = GV['평가3'][i]\n",
        "#     else:\n",
        "#         None\n",
        "\n",
        "# GV"
      ]
    },
    {
      "cell_type": "markdown",
      "id": "f4aa5d71",
      "metadata": {
        "id": "f4aa5d71"
      },
      "source": [
        "## J bag"
      ]
    },
    {
      "cell_type": "code",
      "execution_count": null,
      "id": "e332cfce",
      "metadata": {
        "id": "e332cfce"
      },
      "outputs": [],
      "source": [
        "j = pd.read_csv('/content/Jbag.csv')"
      ]
    },
    {
      "cell_type": "code",
      "execution_count": null,
      "id": "ebe124df",
      "metadata": {
        "scrolled": true,
        "id": "ebe124df"
      },
      "outputs": [],
      "source": [
        "j = j.loc[:, '평점':'색상']\n",
        "j"
      ]
    },
    {
      "cell_type": "code",
      "execution_count": null,
      "id": "7893af6f",
      "metadata": {
        "scrolled": true,
        "id": "7893af6f"
      },
      "outputs": [],
      "source": [
        "# 상품명\n",
        "add_info(j, 'j bag')\n",
        "j"
      ]
    },
    {
      "cell_type": "code",
      "execution_count": null,
      "id": "6a0a2f94",
      "metadata": {
        "scrolled": true,
        "id": "6a0a2f94"
      },
      "outputs": [],
      "source": [
        "# 한달사용기 -> 후기 위치 이동\n",
        "\n",
        "move_review(j)\n",
        "j"
      ]
    },
    {
      "cell_type": "code",
      "execution_count": null,
      "id": "60f66cb9",
      "metadata": {
        "id": "60f66cb9"
      },
      "outputs": [],
      "source": [
        "# 띄어쓰기 정리\n",
        "j['항목1'] = j['항목1'].str.strip()\n",
        "j['항목2'] = j['항목2'].str.strip()\n",
        "j['항목3'] = j['항목3'].str.strip()"
      ]
    },
    {
      "cell_type": "code",
      "execution_count": null,
      "id": "f772616d",
      "metadata": {
        "scrolled": true,
        "id": "f772616d"
      },
      "outputs": [],
      "source": [
        "# 평가 항목 컬럼 생성\n",
        "new_column(j)\n",
        "j"
      ]
    },
    {
      "cell_type": "code",
      "execution_count": null,
      "id": "ca959f32",
      "metadata": {
        "scrolled": true,
        "id": "ca959f32"
      },
      "outputs": [],
      "source": [
        "# 항목 위치 이동\n",
        "process_data(j)\n",
        "j"
      ]
    },
    {
      "cell_type": "code",
      "execution_count": null,
      "id": "ed22041c",
      "metadata": {
        "scrolled": true,
        "id": "ed22041c"
      },
      "outputs": [],
      "source": [
        "j = j[['상품명','상품명_옵션','플랫폼','평점','사이즈','무게감','디자인','퀄리티','마감처리','후기']]\n",
        "j"
      ]
    },
    {
      "cell_type": "markdown",
      "id": "db0a6e13",
      "metadata": {
        "id": "db0a6e13"
      },
      "source": [
        "## G bag"
      ]
    },
    {
      "cell_type": "code",
      "execution_count": null,
      "id": "f8f26b98",
      "metadata": {
        "id": "f8f26b98"
      },
      "outputs": [],
      "source": [
        "G = pd.read_csv('/content/gbag.csv')"
      ]
    },
    {
      "cell_type": "code",
      "execution_count": null,
      "id": "72c0056d",
      "metadata": {
        "id": "72c0056d"
      },
      "outputs": [],
      "source": [
        "# 필요한 경우만\n",
        "G = G.loc[:, '평점':'색상']"
      ]
    },
    {
      "cell_type": "code",
      "execution_count": null,
      "id": "ab25cf93",
      "metadata": {
        "scrolled": true,
        "id": "ab25cf93"
      },
      "outputs": [],
      "source": [
        "# 상품명, 상품명_옵션, 플랫폼\n",
        "add_info(G, 'G bag')\n",
        "G"
      ]
    },
    {
      "cell_type": "code",
      "execution_count": null,
      "id": "9d328e12",
      "metadata": {
        "scrolled": true,
        "id": "9d328e12"
      },
      "outputs": [],
      "source": [
        "# 한달사용기 -> 후기 위치 이동\n",
        "move_review(G)\n",
        "G"
      ]
    },
    {
      "cell_type": "code",
      "execution_count": null,
      "id": "b826fd81",
      "metadata": {
        "id": "b826fd81"
      },
      "outputs": [],
      "source": [
        "# 띄어쓰기 정리\n",
        "G['항목1'] = G['항목1'].str.strip()\n",
        "G['항목2'] = G['항목2'].str.strip()\n",
        "G['항목3'] = G['항목3'].str.strip()"
      ]
    },
    {
      "cell_type": "code",
      "execution_count": null,
      "id": "2ee6ddbf",
      "metadata": {
        "scrolled": true,
        "id": "2ee6ddbf"
      },
      "outputs": [],
      "source": [
        "# 평가 항목 컬럼 생성\n",
        "new_column(G)\n",
        "G"
      ]
    },
    {
      "cell_type": "code",
      "execution_count": null,
      "id": "a5a808f9",
      "metadata": {
        "scrolled": true,
        "id": "a5a808f9"
      },
      "outputs": [],
      "source": [
        "# 항목 위치 이동\n",
        "process_data(G)\n",
        "G"
      ]
    },
    {
      "cell_type": "code",
      "execution_count": null,
      "id": "b9f58d4d",
      "metadata": {
        "id": "b9f58d4d"
      },
      "outputs": [],
      "source": [
        "G = G[['상품명','상품명_옵션','플랫폼','평점','사이즈','무게감','디자인','퀄리티','마감처리','후기']]\n",
        "G"
      ]
    },
    {
      "cell_type": "markdown",
      "source": [
        "## B bag"
      ],
      "metadata": {
        "id": "GGIVgVBPXrVi"
      },
      "id": "GGIVgVBPXrVi"
    },
    {
      "cell_type": "code",
      "source": [
        "B = pd.read_csv('/content/B bag.csv')"
      ],
      "metadata": {
        "id": "xGGFlLs5Xy_Y"
      },
      "id": "xGGFlLs5Xy_Y",
      "execution_count": null,
      "outputs": []
    },
    {
      "cell_type": "code",
      "source": [
        "# 필요한 경우만\n",
        "B = B.loc[:, '평점':'색상']"
      ],
      "metadata": {
        "id": "FJ3N3NynX7pX"
      },
      "id": "FJ3N3NynX7pX",
      "execution_count": null,
      "outputs": []
    },
    {
      "cell_type": "code",
      "source": [
        "# 상품명, 상품명_옵션, 플랫폼\n",
        "add_info(B, 'B bag')\n",
        "B"
      ],
      "metadata": {
        "id": "wa5oOGcoX_vv"
      },
      "id": "wa5oOGcoX_vv",
      "execution_count": null,
      "outputs": []
    },
    {
      "cell_type": "code",
      "source": [
        "# 띄어쓰기 정리\n",
        "B['항목1'] = B['항목1'].str.strip()\n",
        "B['항목2'] = B['항목2'].str.strip()\n",
        "B['항목3'] = B['항목3'].str.strip()"
      ],
      "metadata": {
        "id": "FR1YWI6IYVd6"
      },
      "id": "FR1YWI6IYVd6",
      "execution_count": null,
      "outputs": []
    },
    {
      "cell_type": "code",
      "source": [
        "# 평가 항목 컬럼 생성\n",
        "new_column(B)\n",
        "B"
      ],
      "metadata": {
        "id": "Y04XnL83YaW2"
      },
      "id": "Y04XnL83YaW2",
      "execution_count": null,
      "outputs": []
    },
    {
      "cell_type": "code",
      "source": [
        "# 항목 위치 이동\n",
        "process_data(B)\n",
        "B"
      ],
      "metadata": {
        "id": "hY975BWBYemv"
      },
      "id": "hY975BWBYemv",
      "execution_count": null,
      "outputs": []
    },
    {
      "cell_type": "code",
      "source": [
        "B = B[['상품명','상품명_옵션','플랫폼','평점','사이즈','무게감','디자인','퀄리티','마감처리','후기']]\n",
        "B"
      ],
      "metadata": {
        "id": "1yEG91DcYlQN"
      },
      "id": "1yEG91DcYlQN",
      "execution_count": null,
      "outputs": []
    },
    {
      "cell_type": "markdown",
      "source": [
        "## U bag"
      ],
      "metadata": {
        "id": "LqWpGthZYo7I"
      },
      "id": "LqWpGthZYo7I"
    },
    {
      "cell_type": "code",
      "source": [
        "U = pd.read_csv('/content/U bag.csv')"
      ],
      "metadata": {
        "id": "gGJXH_wNY3KK"
      },
      "id": "gGJXH_wNY3KK",
      "execution_count": null,
      "outputs": []
    },
    {
      "cell_type": "code",
      "source": [
        "# 필요한 경우만\n",
        "U = U.loc[:, '평점':'색상']"
      ],
      "metadata": {
        "id": "w8sasUZXZDs1"
      },
      "id": "w8sasUZXZDs1",
      "execution_count": null,
      "outputs": []
    },
    {
      "cell_type": "code",
      "source": [
        "# 상품명, 상품명_옵션, 플랫폼\n",
        "add_info(U, 'U bag')\n",
        "U"
      ],
      "metadata": {
        "id": "0h8LH3T2ZKqt"
      },
      "id": "0h8LH3T2ZKqt",
      "execution_count": null,
      "outputs": []
    },
    {
      "cell_type": "code",
      "source": [
        "# 띄어쓰기 정리\n",
        "U['항목1'] = U['항목1'].str.strip()\n",
        "U['항목2'] = U['항목2'].str.strip()\n",
        "U['항목3'] = U['항목3'].str.strip()"
      ],
      "metadata": {
        "id": "I-N_Ot4OZfC_"
      },
      "id": "I-N_Ot4OZfC_",
      "execution_count": null,
      "outputs": []
    },
    {
      "cell_type": "code",
      "source": [
        "# 평가 항목 컬럼 생성\n",
        "new_column(U)\n",
        "U"
      ],
      "metadata": {
        "id": "cqlvW6JBZlai"
      },
      "id": "cqlvW6JBZlai",
      "execution_count": null,
      "outputs": []
    },
    {
      "cell_type": "code",
      "source": [
        "# 항목 위치 이동\n",
        "process_data(U)\n",
        "U"
      ],
      "metadata": {
        "id": "Es3WnId_ZsHT"
      },
      "id": "Es3WnId_ZsHT",
      "execution_count": null,
      "outputs": []
    },
    {
      "cell_type": "code",
      "source": [
        "U = U[['상품명','상품명_옵션','플랫폼','평점','사이즈','무게감','디자인','퀄리티','마감처리','후기']]\n",
        "U"
      ],
      "metadata": {
        "id": "BRSCw-TRZ_oJ"
      },
      "id": "BRSCw-TRZ_oJ",
      "execution_count": null,
      "outputs": []
    },
    {
      "cell_type": "markdown",
      "source": [
        "## S bag"
      ],
      "metadata": {
        "id": "vbUGHS6xaGTv"
      },
      "id": "vbUGHS6xaGTv"
    },
    {
      "cell_type": "code",
      "source": [
        "S = pd.read_csv('/content/S bag.csv')"
      ],
      "metadata": {
        "id": "7q5w_QxfaMH8"
      },
      "id": "7q5w_QxfaMH8",
      "execution_count": null,
      "outputs": []
    },
    {
      "cell_type": "code",
      "source": [
        "# 필요한 경우만\n",
        "S = S.loc[:, '평점':'색상']"
      ],
      "metadata": {
        "id": "o5u44sqBaofk"
      },
      "id": "o5u44sqBaofk",
      "execution_count": null,
      "outputs": []
    },
    {
      "cell_type": "code",
      "source": [
        "# 상품명, 상품명_옵션, 플랫폼\n",
        "add_info(S, 'S bag')\n",
        "S"
      ],
      "metadata": {
        "id": "sqQXWUz-atxs"
      },
      "id": "sqQXWUz-atxs",
      "execution_count": null,
      "outputs": []
    },
    {
      "cell_type": "code",
      "source": [
        "# 띄어쓰기 정리\n",
        "S['항목1'] = S['항목1'].str.strip()\n",
        "S['항목2'] = S['항목2'].str.strip()\n",
        "S['항목3'] = S['항목3'].str.strip()"
      ],
      "metadata": {
        "id": "ChPZCL4Aaz2f"
      },
      "id": "ChPZCL4Aaz2f",
      "execution_count": null,
      "outputs": []
    },
    {
      "cell_type": "code",
      "source": [
        "# 평가 항목 컬럼 생성\n",
        "new_column(S)\n",
        "S"
      ],
      "metadata": {
        "id": "LwKCbbXOa9Bu"
      },
      "id": "LwKCbbXOa9Bu",
      "execution_count": null,
      "outputs": []
    },
    {
      "cell_type": "code",
      "source": [
        "# 항목 위치 이동\n",
        "process_data(S)\n",
        "S"
      ],
      "metadata": {
        "id": "baGlIpZKbNyH"
      },
      "id": "baGlIpZKbNyH",
      "execution_count": null,
      "outputs": []
    },
    {
      "cell_type": "code",
      "source": [
        "S = S[['상품명','상품명_옵션','플랫폼','평점','사이즈','무게감','디자인','퀄리티','마감처리','후기']]\n",
        "S"
      ],
      "metadata": {
        "id": "pWX2SLqgbSUT"
      },
      "id": "pWX2SLqgbSUT",
      "execution_count": null,
      "outputs": []
    },
    {
      "cell_type": "markdown",
      "source": [
        "## F bag"
      ],
      "metadata": {
        "id": "6ME8z6i-bZ6E"
      },
      "id": "6ME8z6i-bZ6E"
    },
    {
      "cell_type": "code",
      "source": [
        "F = pd.read_csv('/content/F bag.csv')"
      ],
      "metadata": {
        "id": "Rq3dS3pWbce1"
      },
      "id": "Rq3dS3pWbce1",
      "execution_count": null,
      "outputs": []
    },
    {
      "cell_type": "code",
      "source": [
        "# 필요한 경우만\n",
        "F = F.loc[:, '평점':'색상']"
      ],
      "metadata": {
        "id": "Izd2jbU4bi0i"
      },
      "id": "Izd2jbU4bi0i",
      "execution_count": null,
      "outputs": []
    },
    {
      "cell_type": "code",
      "source": [
        "# 상품명, 상품명_옵션, 플랫폼\n",
        "add_info(F, 'F bag')\n",
        "F"
      ],
      "metadata": {
        "id": "XffVnZWKcD7o"
      },
      "id": "XffVnZWKcD7o",
      "execution_count": null,
      "outputs": []
    },
    {
      "cell_type": "code",
      "source": [
        "# 띄어쓰기 정리\n",
        "F['항목1'] = F['항목1'].str.strip()\n",
        "F['항목2'] = F['항목2'].str.strip()\n",
        "F['항목3'] = F['항목3'].str.strip()"
      ],
      "metadata": {
        "id": "tCPqR5ZFcNzD"
      },
      "id": "tCPqR5ZFcNzD",
      "execution_count": null,
      "outputs": []
    },
    {
      "cell_type": "code",
      "source": [
        "# 평가 항목 컬럼 생성\n",
        "new_column(F)\n",
        "F"
      ],
      "metadata": {
        "id": "doh3RrJnca_9"
      },
      "id": "doh3RrJnca_9",
      "execution_count": null,
      "outputs": []
    },
    {
      "cell_type": "code",
      "source": [
        "# 항목 위치 이동\n",
        "process_data(F)\n",
        "F"
      ],
      "metadata": {
        "id": "jbmHTba_ciBy"
      },
      "id": "jbmHTba_ciBy",
      "execution_count": null,
      "outputs": []
    },
    {
      "cell_type": "code",
      "source": [
        "F = F[['상품명','상품명_옵션','플랫폼','평점','사이즈','무게감','디자인','퀄리티','마감처리','후기']]\n",
        "F"
      ],
      "metadata": {
        "id": "PArnoIjkcqmB"
      },
      "id": "PArnoIjkcqmB",
      "execution_count": null,
      "outputs": []
    },
    {
      "cell_type": "markdown",
      "source": [
        "## 데이터 통합"
      ],
      "metadata": {
        "id": "Pp00H07qcynM"
      },
      "id": "Pp00H07qcynM"
    },
    {
      "cell_type": "code",
      "source": [
        "Review_zig_naver = pd.concat([GV, G,j,B,U,S,F], axis=0)\n",
        "Review_zig_naver"
      ],
      "metadata": {
        "id": "35vJwjhJc7PB"
      },
      "id": "35vJwjhJc7PB",
      "execution_count": null,
      "outputs": []
    },
    {
      "cell_type": "code",
      "source": [
        "C_review = pd.read_csv('/content/자사_review_컬럼정리.csv')\n",
        "C_review = C_review[['상품명','상품명_옵션','플랫폼','평점','사이즈','무게감','디자인','퀄리티','마감처리','후기']]\n",
        "C_review"
      ],
      "metadata": {
        "id": "69yC4zUDgqTb"
      },
      "id": "69yC4zUDgqTb",
      "execution_count": null,
      "outputs": []
    },
    {
      "cell_type": "code",
      "source": [
        "# 자사 + 외부 리뷰 데이터 합본\n",
        "Review_Final = pd.concat([Review_zig_naver,C_review], axis=0)\n",
        "Review_Final"
      ],
      "metadata": {
        "id": "uucwK0Xmjuls"
      },
      "id": "uucwK0Xmjuls",
      "execution_count": null,
      "outputs": []
    },
    {
      "cell_type": "code",
      "source": [
        "Review_Final.to_csv('./Review_Final.csv')"
      ],
      "metadata": {
        "id": "YpQfztKUkbfZ"
      },
      "id": "YpQfztKUkbfZ",
      "execution_count": null,
      "outputs": []
    }
  ],
  "metadata": {
    "kernelspec": {
      "display_name": "Python 3 (ipykernel)",
      "language": "python",
      "name": "python3"
    },
    "language_info": {
      "codemirror_mode": {
        "name": "ipython",
        "version": 3
      },
      "file_extension": ".py",
      "mimetype": "text/x-python",
      "name": "python",
      "nbconvert_exporter": "python",
      "pygments_lexer": "ipython3",
      "version": "3.9.12"
    },
    "toc": {
      "base_numbering": 1,
      "nav_menu": {},
      "number_sections": true,
      "sideBar": true,
      "skip_h1_title": false,
      "title_cell": "Table of Contents",
      "title_sidebar": "Contents",
      "toc_cell": false,
      "toc_position": {},
      "toc_section_display": true,
      "toc_window_display": false
    },
    "colab": {
      "provenance": [],
      "include_colab_link": true
    }
  },
  "nbformat": 4,
  "nbformat_minor": 5
}