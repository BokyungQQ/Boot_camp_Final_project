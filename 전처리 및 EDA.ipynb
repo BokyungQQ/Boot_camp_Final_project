{
  "cells": [
    {
      "cell_type": "markdown",
      "metadata": {
        "id": "view-in-github",
        "colab_type": "text"
      },
      "source": [
        "<a href=\"https://colab.research.google.com/github/BokyungQQ/Boot_camp_Final_project/blob/main/%EC%A0%84%EC%B2%98%EB%A6%AC%20%EB%B0%8F%20EDA.ipynb\" target=\"_parent\"><img src=\"https://colab.research.google.com/assets/colab-badge.svg\" alt=\"Open In Colab\"/></a>"
      ]
    },
    {
      "cell_type": "code",
      "execution_count": null,
      "metadata": {
        "id": "DYGPy-EYa3A6"
      },
      "outputs": [],
      "source": [
        "!sudo apt-get install -y fonts-nanum\n",
        "!sudo fc-cache -fv\n",
        "!rm ~/.cache/matplotlib -rf"
      ]
    },
    {
      "cell_type": "code",
      "execution_count": null,
      "metadata": {
        "id": "OtpI4drta6Yx"
      },
      "outputs": [],
      "source": [
        "import pandas as pd\n",
        "import numpy as np\n",
        "import seaborn as sns\n",
        "import matplotlib.pyplot as plt\n",
        "import re\n",
        "plt.rc('font', family='NanumGothic')"
      ]
    },
    {
      "cell_type": "code",
      "execution_count": null,
      "metadata": {
        "id": "9P7l6_Nua7qb"
      },
      "outputs": [],
      "source": [
        "customers = pd.read_csv('/content/user.csv')\n",
        "order = pd.read_csv('/content/order.csv')\n",
        "review = pd.read_csv('/content/review.csv')\n",
        "products = pd.read_csv('/content/상품 리스트.csv')"
      ]
    },
    {
      "cell_type": "markdown",
      "metadata": {
        "id": "cUOeGnoAcLnd"
      },
      "source": [
        "# 전처리"
      ]
    },
    {
      "cell_type": "markdown",
      "metadata": {
        "id": "8xE9Bhg9cLne"
      },
      "source": [
        "## order\n",
        "\n",
        "- 상품명에 ‘당일출고’, ‘예약발송’ 등 문구가 붙어있는 경우 존재 ⇒ 정리\n",
        "    - ‘배송유형’ 컬럼 생성 (0: 당일출고, 1: 예약발송, 2: 없음)\n",
        "    - **‘상품명_옵션’** 컬럼에 ‘상품명_색상’ 정보만 들어가도록 정리 (+ 대괄호 제거)"
      ]
    },
    {
      "cell_type": "code",
      "execution_count": null,
      "metadata": {
        "id": "KmM-s_hBcLnf"
      },
      "outputs": [],
      "source": [
        "# unnamed 컬럼 제거\n",
        "order = order.iloc[:,1:]\n",
        "order"
      ]
    },
    {
      "cell_type": "code",
      "execution_count": null,
      "metadata": {
        "scrolled": true,
        "colab": {
          "base_uri": "https://localhost:8080/"
        },
        "id": "RHlyLG8jcLnh",
        "outputId": "9de129bb-3bfb-4663-fb90-3d9f75170b68"
      },
      "outputs": [
        {
          "output_type": "stream",
          "name": "stdout",
          "text": [
            "<class 'pandas.core.frame.DataFrame'>\n",
            "RangeIndex: 11563 entries, 0 to 11562\n",
            "Data columns (total 25 columns):\n",
            " #   Column          Non-Null Count  Dtype  \n",
            "---  ------          --------------  -----  \n",
            " 0   주문일시            11563 non-null  object \n",
            " 1   주문번호            11563 non-null  object \n",
            " 2   회원등급            6533 non-null   object \n",
            " 3   총 결제금액          11563 non-null  float64\n",
            " 4   결제수단            11563 non-null  object \n",
            " 5   사용한 적립금액(최종)    11563 non-null  float64\n",
            " 6   상품명(어라운드앤 한국)   11563 non-null  object \n",
            " 7   주문자 주소          11555 non-null  object \n",
            " 8   주문자ID           11563 non-null  object \n",
            " 9   수령인 주소          11555 non-null  object \n",
            " 10  반품신청일           265 non-null    object \n",
            " 11  취소신청일           597 non-null    object \n",
            " 12  교환신청일           15 non-null     object \n",
            " 13  총 결제금액(KRW)     11563 non-null  int64  \n",
            " 14  사용한 쿠폰명         5415 non-null   object \n",
            " 15  주문서 쿠폰 할인금액     5415 non-null   float64\n",
            " 16  쿠폰 할인금액(최종)     11563 non-null  float64\n",
            " 17  주문상품명           11563 non-null  object \n",
            " 18  결제일시(입금확인일)     11321 non-null  object \n",
            " 19  네이버 캐시          11563 non-null  float64\n",
            " 20  네이버 페이 취소접수 구분  400 non-null    object \n",
            " 21  네이버 포인트         11563 non-null  float64\n",
            " 22  수량              11563 non-null  int64  \n",
            " 23  주문경로(PC/모바일)    11563 non-null  object \n",
            " 24  주문자 가입일         6541 non-null   object \n",
            "dtypes: float64(6), int64(2), object(17)\n",
            "memory usage: 2.2+ MB\n"
          ]
        }
      ],
      "source": [
        "order.info()"
      ]
    },
    {
      "cell_type": "code",
      "execution_count": null,
      "metadata": {
        "id": "CwYFbLBOcLnh"
      },
      "outputs": [],
      "source": [
        "# 당일출고와 예약발송의 경우 새로운 칼럼 생성\n",
        "def assign_shipping_type(product_name):\n",
        "    if '당일출고' in product_name:\n",
        "        return 0\n",
        "    elif '예약발송' in product_name:\n",
        "        return 1\n",
        "    else:\n",
        "        return 2"
      ]
    },
    {
      "cell_type": "code",
      "execution_count": null,
      "metadata": {
        "id": "h8racghFcLni"
      },
      "outputs": [],
      "source": [
        "order['배송유형'] = order['상품명'].apply(assign_shipping_type)\n",
        "order = order.rename(columns={'상품명': '상품명_옵션'})\n",
        "order"
      ]
    },
    {
      "cell_type": "code",
      "execution_count": null,
      "metadata": {
        "id": "rd03exDpcLni"
      },
      "outputs": [],
      "source": [
        "# 상품명에서 괄호 앞부분 지우기\n",
        "def remove_prefix(product_name):\n",
        "    if '[' in product_name:\n",
        "        return re.sub(r'^[^\\[]*', '', product_name).strip()\n",
        "    else:\n",
        "        return product_name"
      ]
    },
    {
      "cell_type": "code",
      "execution_count": null,
      "metadata": {
        "id": "8sKqEjNAcLnj"
      },
      "outputs": [],
      "source": [
        "order['상품명_옵션'] = order['상품명_옵션'].apply(remove_prefix)\n",
        "order"
      ]
    },
    {
      "cell_type": "code",
      "execution_count": null,
      "metadata": {
        "id": "msfSLKXYcLnj"
      },
      "outputs": [],
      "source": [
        "# 상품명에서 괄호도 모두 삭제\n",
        "def remove_brackets(product_name):\n",
        "    return re.sub(r'[\\[\\]]', '', product_name).strip()\n",
        "\n",
        "order['상품명_옵션'] = order['상품명_옵션'].apply(remove_brackets)\n",
        "order"
      ]
    },
    {
      "cell_type": "markdown",
      "metadata": {
        "id": "SaGjwICwcLnk"
      },
      "source": [
        "- 상품별 비교를 위해 **‘상품명’** 컬럼 생성 (색상 정보 제거)\n",
        "    - 모든 키링은 ‘keyring’ 범주에 포함\n",
        "    - 기타 상품(wallet, shoes 등)은 ‘acc’ 범주에 포함\n",
        "    - ‘gift_package’는 따로 범주 생성"
      ]
    },
    {
      "cell_type": "code",
      "execution_count": null,
      "metadata": {
        "id": "z-VdlQ7ccLnk"
      },
      "outputs": [],
      "source": [
        "# '상품명_옵션'에서 색상 정보 제거\n",
        "order['상품명'] = order['상품명_옵션'].apply(lambda x: x.split('_')[0])"
      ]
    },
    {
      "cell_type": "code",
      "execution_count": null,
      "metadata": {
        "id": "_6q88p1GcLnl"
      },
      "outputs": [],
      "source": [
        "order.groupby('상품명').size()"
      ]
    },
    {
      "cell_type": "code",
      "execution_count": null,
      "metadata": {
        "scrolled": true,
        "id": "-502_SoGcLnm"
      },
      "outputs": [],
      "source": [
        "# 키링 -> 'keyring' 범주화\n",
        "# 'acc' 범주화\n",
        "\n",
        "for i in range(len(order)):\n",
        "    if 'keyring' in order['상품명'][i]:\n",
        "        order['상품명'][i] = 'keyring'\n",
        "    elif 'Gift' in order['상품명'][i]:\n",
        "        order['상품명'][i]\n",
        "    elif 'bag' not in order['상품명'][i]:\n",
        "        order['상품명'][i] = 'acc'\n",
        "    else:\n",
        "        order['상품명'][i]\n",
        "\n",
        "order.groupby('상품명').size()"
      ]
    },
    {
      "cell_type": "markdown",
      "metadata": {
        "id": "wz5tFI1xcLnn"
      },
      "source": [
        "**이상데이터 제거**\n",
        "- 배송지 없는 경우 (테스트용)\n",
        "- 내부직원 아이디 삭제"
      ]
    },
    {
      "cell_type": "code",
      "execution_count": null,
      "metadata": {
        "id": "7nETsHSwcLno"
      },
      "outputs": [],
      "source": [
        "# 배송지가 없는 경우\n",
        "order = order[~order['주문자 주소'].isnull()]\n",
        "\n",
        "# 직원 ID 제외\n",
        "exclude_id = ['2688120606@k', 'andugwak', '2300943014@k', 'yeriii94', '2832968400@k', '2296005899@k', '3115853248@k', 'jinju12', 'jinju1219', '2304150831@k', '2936163205@k', '2372723095@k']\n",
        "order = order[~order['주문자ID'].isin(exclude_id)]\n",
        "\n",
        "order"
      ]
    },
    {
      "cell_type": "markdown",
      "metadata": {
        "id": "UFunet7wcLno"
      },
      "source": [
        "## order 주문상태 컬럼"
      ]
    },
    {
      "cell_type": "code",
      "execution_count": null,
      "metadata": {
        "id": "GQXTxJVxcLnp"
      },
      "outputs": [],
      "source": [
        "order['주문상태'] = \"\""
      ]
    },
    {
      "cell_type": "code",
      "execution_count": null,
      "metadata": {
        "id": "ETfbUToocLnp"
      },
      "outputs": [],
      "source": [
        "# '총 결제금액'이 3000.0인 경우 '반품', 그렇지 않으면 '정상'으로 설정\n",
        "order['주문상태'] = np.where(order['총 결제금액'] == 3000.0, '반품', '정상')\n",
        "\n",
        "conditions = [\n",
        "    (order['총 결제금액'] == 3000.0) | (order['반품신청일'].notnull()),\n",
        "    ((order['결제수단'].isin(['무통장입금', '가상계좌'])) & (order['총 결제금액'] == 0.0)),\n",
        "    (order['교환신청일'].notnull()),\n",
        "    (((order['결제수단'].isin(['신용카드', '쿠폰,신용카드', '계좌이체'])) & (order['총 결제금액'] == 0.0)) | (order['취소신청일'].notnull()) | ((order['네이버 페이 취소접수 구분'].notnull()) & (order['교환신청일'].isnull())))\n",
        "]\n",
        "choices = ['반품', '미결제', '교환', '취소']\n",
        "order['주문상태'] = np.select(conditions, choices, default='정상')"
      ]
    },
    {
      "cell_type": "code",
      "source": [
        "order"
      ],
      "metadata": {
        "id": "TzAcIf50dX6V"
      },
      "execution_count": null,
      "outputs": []
    },
    {
      "cell_type": "code",
      "execution_count": null,
      "metadata": {
        "id": "GS0r1mincLnp"
      },
      "outputs": [],
      "source": [
        "for i in range(len(order)):\n",
        "\n",
        "    # 반품\n",
        "    if order['총 결제금액'][i] == 3000.0:\n",
        "        order['주문상태'][i] = '반품'\n",
        "    elif order['반품신청일'][i] is not None:\n",
        "        order['주문상태'][i] = '반품'\n",
        "\n",
        "    # 미결제\n",
        "    elif (order['결제수단'][i] in ['무통장입금','가상계좌']) & (order['총 결제금액'][i] == 0.0):\n",
        "        order['주문상태'][i] = '미결제'\n",
        "\n",
        "    # 교환\n",
        "    elif order['교환신청일'][i] is not None:\n",
        "        order['주문상태'][i] = '교환'\n",
        "\n",
        "    # 취소\n",
        "    elif (order['결제수단'][i] in ['신용카드','쿠폰,신용카드','계좌이체']) & (order['총 결제금액'][i] == 0.0):\n",
        "        order['주문상태'][i] = '취소'\n",
        "    elif order['취소신청일'][i] is not None:\n",
        "        order['주문상태'][i] = '취소'\n",
        "    elif (order['네이버 페이 취소접수 구분'] is not None) & (order['교환신청일'] is None):\n",
        "        order['주문상태'][i] = '취소'\n",
        "\n",
        "    # 정상\n",
        "    else:\n",
        "        order['주문상태'][i] = '정상'"
      ]
    },
    {
      "cell_type": "markdown",
      "metadata": {
        "id": "PIg5Je44cLnq"
      },
      "source": [
        "## order_buy"
      ]
    },
    {
      "cell_type": "markdown",
      "metadata": {
        "id": "mhvxRlv9cLnq"
      },
      "source": [
        "**판매건/매출액 등을 활용해 분석할 경우, 취소/반품/미결제 건 제외 필요 : order_buy**\n",
        "\n",
        "\n",
        "[취소]\n",
        "\n",
        "- ‘취소신청일’에 날짜 데이터 존재하는 경우\n",
        "- **신용카드 / 쿠폰,신용카드 / 계좌이체 & 결제금액 0원**인 경우\n",
        "- '네이버 페이 취소접수 구분'에 메세지 있는 경우 (교환 제외)\n",
        "\n",
        "[미결제]\n",
        "\n",
        "- **무통장입금 / 가상계좌 & 결제금액 0원**인 경우\n",
        "\n",
        "[반품]\n",
        "\n",
        "- ‘반품신청일’에 날짜 데이터 존재하는 경우\n",
        "- 결제금액이 **3000원, 6000원**인 경우"
      ]
    },
    {
      "cell_type": "code",
      "execution_count": null,
      "metadata": {
        "scrolled": true,
        "id": "WuIKgJUqcLnq"
      },
      "outputs": [],
      "source": [
        "order.shape"
      ]
    },
    {
      "cell_type": "code",
      "execution_count": null,
      "metadata": {
        "scrolled": true,
        "id": "IXHngC5VcLnq"
      },
      "outputs": [],
      "source": [
        "# 반품 건수, 취소 건수\n",
        "print(\"반품: \", order['반품신청일'].notnull().sum())\n",
        "print(\"취소: \", order['취소신청일'].notnull().sum())"
      ]
    },
    {
      "cell_type": "code",
      "execution_count": null,
      "metadata": {
        "id": "v87fs0N5cLnr"
      },
      "outputs": [],
      "source": [
        "# 반품 제거\n",
        "order_buy = order.drop(order[order['반품신청일'].notnull()].index, axis=0)\n",
        "\n",
        "# 반품 배송비만 결제한 경우 삭제\n",
        "order_buy = order_buy[order_buy['총 결제금액'] != 3000]\n",
        "order_buy = order_buy[order_buy['총 결제금액'] != 6000]\n",
        "order_buy"
      ]
    },
    {
      "cell_type": "code",
      "execution_count": null,
      "metadata": {
        "scrolled": true,
        "id": "oT-sgo0gcLnr"
      },
      "outputs": [],
      "source": [
        "# 미결제 제거\n",
        "order_buy = order_buy.drop(order_buy[(order_buy['결제수단'].isin(['무통장입금','가상계좌'])) & (order_buy['총 결제금액']==0.0)].index, axis=0)\n",
        "\n",
        "order_buy.shape"
      ]
    },
    {
      "cell_type": "code",
      "execution_count": null,
      "metadata": {
        "id": "JJsdHubVcLnr"
      },
      "outputs": [],
      "source": [
        "# 취소 제거\n",
        "order_buy = order_buy.drop(order_buy[order_buy['취소신청일'].notnull()].index, axis=0)\n",
        "\n",
        "# 신용카드, 계좌이체, 쿠폰/신용카드\n",
        "order_buy = order_buy.drop(order_buy[(order_buy['결제수단'].isin(['신용카드','계좌이체','쿠폰,신용카드'])) & (order_buy['총 결제금액']==0.0)].index, axis=0)\n",
        "\n",
        "# '네이버 페이 취소접수 구분'에 메세지 있는 경우 제외 (교환 제외)\n",
        "order_buy = order_buy.drop(order_buy[(order_buy['네이버 페이 취소접수 구분'].notnull()) & (order_buy['교환신청일'].isnull())].index, axis=0)\n",
        "\n",
        "order_buy.shape"
      ]
    },
    {
      "cell_type": "code",
      "execution_count": null,
      "metadata": {
        "id": "1CHD3kBpcLns"
      },
      "outputs": [],
      "source": [
        "#order_buy.to_csv('./order_buy_1205.csv')"
      ]
    },
    {
      "cell_type": "markdown",
      "metadata": {
        "id": "etJ1_U8JcLnt"
      },
      "source": [
        "## 매출액 확인 위한 데이터셋 생성\n",
        "- 매출액 분석하는 경우, 중복되는 주문번호 제거\n",
        "    - 한 번 주문에 여러 상품을 구매하는 경우, 행이 상품의 개수만큼 생성되고 각 행의 결제 금액에 합산 금액이 표시되기 때문"
      ]
    },
    {
      "cell_type": "code",
      "execution_count": null,
      "metadata": {
        "id": "DesX-UKacLnu"
      },
      "outputs": [],
      "source": [
        "order_sales = order_buy.drop_duplicates(['주문번호'])"
      ]
    },
    {
      "cell_type": "code",
      "execution_count": null,
      "metadata": {
        "id": "IP-rCF20cLnu"
      },
      "outputs": [],
      "source": [
        "# order_sales.to_csv('./order_sales.csv')"
      ]
    },
    {
      "cell_type": "markdown",
      "metadata": {
        "id": "sp3RCgNIcLnv"
      },
      "source": [
        "# EDA"
      ]
    },
    {
      "cell_type": "markdown",
      "metadata": {
        "id": "pwYTA8n2cLn3"
      },
      "source": [
        "## 단품/세트 구매율"
      ]
    },
    {
      "cell_type": "code",
      "execution_count": null,
      "metadata": {
        "scrolled": true,
        "id": "bS2nOkBscLn4"
      },
      "outputs": [],
      "source": [
        "order_buy"
      ]
    },
    {
      "cell_type": "code",
      "execution_count": null,
      "metadata": {
        "id": "HOsIVqPgcLn4"
      },
      "outputs": [],
      "source": [
        "# 카테고리 생성\n",
        "def category(product_name):\n",
        "    if 'bag' in product_name:\n",
        "        return 'bag'\n",
        "    else:\n",
        "        return product_name"
      ]
    },
    {
      "cell_type": "code",
      "execution_count": null,
      "metadata": {
        "id": "FOKLPHFicLn4"
      },
      "outputs": [],
      "source": [
        "order_buy['카테고리'] = order_buy['상품명'].apply(category)"
      ]
    },
    {
      "cell_type": "code",
      "execution_count": null,
      "metadata": {
        "scrolled": true,
        "id": "OMvNdY23cLn5"
      },
      "outputs": [],
      "source": [
        "order_buy"
      ]
    },
    {
      "cell_type": "code",
      "execution_count": null,
      "metadata": {
        "id": "NGqYyRlJcLn5"
      },
      "outputs": [],
      "source": [
        "# 단품 구매 / 세트 구매 구분\n",
        "# 주문번호가 중복되는 경우 : 여러 상품 세트 구매\n",
        "# 주문번호가 한 행인 경우 : 단품 구매 (수량 무관)\n",
        "\n",
        "onething = order_buy[~order_buy['주문번호'].duplicated(keep=False)]\n",
        "sets = order_buy[order_buy['주문번호'].duplicated(keep=False)]"
      ]
    },
    {
      "cell_type": "code",
      "execution_count": null,
      "metadata": {
        "scrolled": true,
        "id": "L2KKVNP0cLn5"
      },
      "outputs": [],
      "source": [
        "# 단품 구매 : 8250건\n",
        "onething"
      ]
    },
    {
      "cell_type": "code",
      "execution_count": null,
      "metadata": {
        "scrolled": true,
        "id": "KtkMPSelcLn5"
      },
      "outputs": [],
      "source": [
        "# 세트 구매\n",
        "sets"
      ]
    },
    {
      "cell_type": "code",
      "execution_count": null,
      "metadata": {
        "scrolled": true,
        "id": "u9TH3nhzcLn6"
      },
      "outputs": [],
      "source": [
        "# 정렬\n",
        "sets = sets.sort_values(by=['주문일시','주문번호','카테고리'])\n",
        "\n",
        "# 주문별 구매한 카테고리 추출\n",
        "# 세트 구매 : 978건\n",
        "sets_cat = sets.groupby('주문번호').agg({'카테고리':lambda x: ', '.join(set(x))}).reset_index()\n",
        "sets_cat"
      ]
    },
    {
      "cell_type": "code",
      "execution_count": null,
      "metadata": {
        "scrolled": false,
        "id": "8Al7SDficLn6"
      },
      "outputs": [],
      "source": [
        "sets_cat.groupby('카테고리').size()"
      ]
    },
    {
      "cell_type": "code",
      "execution_count": null,
      "metadata": {
        "id": "-1KHbczvcLn6"
      },
      "outputs": [],
      "source": [
        "8250+978"
      ]
    },
    {
      "cell_type": "code",
      "execution_count": null,
      "metadata": {
        "id": "y9BNGUORcLn6"
      },
      "outputs": [],
      "source": [
        "# 단품 구매한 주문 : 8250건\n",
        "# 세트 구매한 주문 : 978건\n",
        "# 전체 주문(개별) : 9228건\n",
        "\n",
        "print('단품구매율: ', round(8250/9228*100, 1),'%')\n",
        "print('세트구매율: ', round(978/9228*100, 1),'%')"
      ]
    },
    {
      "cell_type": "code",
      "execution_count": null,
      "metadata": {
        "id": "gwg51CN2cLn7"
      },
      "outputs": [],
      "source": [
        "Final_buy['주문번호'].nunique()"
      ]
    },
    {
      "cell_type": "markdown",
      "metadata": {
        "id": "EpXDwyoScLn7"
      },
      "source": [
        "## 상품별 리뷰 확인"
      ]
    },
    {
      "cell_type": "markdown",
      "metadata": {
        "id": "3IIANcaCcLn7"
      },
      "source": [
        "### 리뷰 오더 조인"
      ]
    },
    {
      "cell_type": "code",
      "execution_count": null,
      "metadata": {
        "scrolled": true,
        "id": "mcWd0m5DcLn8"
      },
      "outputs": [],
      "source": [
        "review = review.iloc[:,1:]\n",
        "review"
      ]
    },
    {
      "cell_type": "code",
      "execution_count": null,
      "metadata": {
        "id": "oEKG46z2cLn8"
      },
      "outputs": [],
      "source": [
        "review['new_주문번호'] = review['주문번호'].str.split('-').str.get(0) + '-' + review['주문번호'].str.split('-').str.get(1)"
      ]
    },
    {
      "cell_type": "code",
      "execution_count": null,
      "metadata": {
        "scrolled": true,
        "id": "_besLXqxcLn8"
      },
      "outputs": [],
      "source": [
        "review"
      ]
    },
    {
      "cell_type": "code",
      "execution_count": null,
      "metadata": {
        "id": "d6_iTqq2cLn9"
      },
      "outputs": [],
      "source": [
        "# 상품명에서 괄호 앞부분 지우기\n",
        "def remove_prefix(product_name):\n",
        "    if '[' in product_name:\n",
        "        return re.sub(r'^[^\\[]*', '', product_name).strip()\n",
        "    else:\n",
        "        return product_name\n",
        "# 상품명에서 괄호도 모두 삭제\n",
        "def remove_brackets(product_name):\n",
        "    return re.sub(r'[\\[\\]]', '', product_name).strip()"
      ]
    },
    {
      "cell_type": "code",
      "execution_count": null,
      "metadata": {
        "id": "ROlKuQvCcLn9"
      },
      "outputs": [],
      "source": [
        "# 상품명 정리 => 상품명_옵션\n",
        "review['상품명'] = review['상품명'].apply(remove_prefix)\n",
        "review['상품명'] = review['상품명'].apply(remove_brackets)\n",
        "\n",
        "review = review.rename(columns={'상품명': '상품명_옵션'})"
      ]
    },
    {
      "cell_type": "code",
      "execution_count": null,
      "metadata": {
        "id": "yJprLf0scLn-"
      },
      "outputs": [],
      "source": [
        "# 상품명 => 색상 정보 제거\n",
        "review['상품명'] = review['상품명_옵션'].apply(lambda x: x.split('_')[0])"
      ]
    },
    {
      "cell_type": "code",
      "execution_count": null,
      "metadata": {
        "scrolled": true,
        "id": "cxwwiNNScLn-"
      },
      "outputs": [],
      "source": [
        "# 키링 => keyring\n",
        "for i in range(len(review)):\n",
        "    if 'keyring' in review['상품명'][i]:\n",
        "        review['상품명'][i] = 'keyring'\n",
        "    else:\n",
        "        review['상품명'][i]\n",
        "\n",
        "review.groupby('상품명').size()"
      ]
    },
    {
      "cell_type": "code",
      "execution_count": null,
      "metadata": {
        "id": "3PrcvzZ0cLn-"
      },
      "outputs": [],
      "source": [
        "review.to_csv('./review.csv')"
      ]
    },
    {
      "cell_type": "code",
      "execution_count": null,
      "metadata": {
        "scrolled": true,
        "id": "NNb1gPkocLoA"
      },
      "outputs": [],
      "source": [
        "# review 조인\n",
        "Final_BR = pd.merge(Final_buy, review, how='inner', left_on=['주문번호','상품명_옵션'], right_on=['new_주문번호','상품명_옵션'])\n",
        "Final_BR"
      ]
    },
    {
      "cell_type": "code",
      "execution_count": null,
      "metadata": {
        "scrolled": true,
        "id": "pr4ZsLRncLoB"
      },
      "outputs": [],
      "source": [
        "Final_BR.info()"
      ]
    },
    {
      "cell_type": "code",
      "execution_count": null,
      "metadata": {
        "id": "u4Hse2EtcLoB"
      },
      "outputs": [],
      "source": [
        "Final_BR = Final_BR.rename(columns={'상품명_x': '상품명'})\n",
        "Final_BR = Final_BR.rename(columns={'상품명_y': '상품명_review'})"
      ]
    },
    {
      "cell_type": "markdown",
      "metadata": {
        "id": "ya5FT2xlcLoC"
      },
      "source": [
        "### 리뷰 분석"
      ]
    },
    {
      "cell_type": "code",
      "execution_count": null,
      "metadata": {
        "scrolled": true,
        "id": "4Zh9WHJZcLoC"
      },
      "outputs": [],
      "source": [
        "# 각 상품별 리뷰 수\n",
        "cnt_review = Final_BR.groupby('상품명').size().reset_index(name='cnt_review')\n",
        "cnt_review"
      ]
    },
    {
      "cell_type": "code",
      "execution_count": null,
      "metadata": {
        "scrolled": true,
        "id": "vqOxSCfscLoC"
      },
      "outputs": [],
      "source": [
        "# 각 상품별 주문 수\n",
        "cnt_order = Final_buy.groupby('상품명').size().reset_index(name='cnt_order')\n",
        "cnt_order"
      ]
    },
    {
      "cell_type": "code",
      "execution_count": null,
      "metadata": {
        "scrolled": true,
        "id": "w7VsjVOCcLoD"
      },
      "outputs": [],
      "source": [
        "cnt = pd.merge(cnt_order, cnt_review, how='inner', on='상품명')\n",
        "cnt"
      ]
    },
    {
      "cell_type": "code",
      "execution_count": null,
      "metadata": {
        "scrolled": true,
        "id": "ih4PfVJccLoD"
      },
      "outputs": [],
      "source": [
        "# 구매 건수 대비 리뷰 작성 비율 구하기\n",
        "cnt['rate'] = round(cnt['cnt_review']/cnt['cnt_order']*100, 1)\n",
        "cnt.sort_values(by='rate', ascending=False)"
      ]
    },
    {
      "cell_type": "code",
      "execution_count": null,
      "metadata": {
        "scrolled": true,
        "id": "sCRzKnimcLoE"
      },
      "outputs": [],
      "source": [
        "mean_score = Final_BR.groupby('상품명')['리뷰평점'].mean().reset_index(name='평균평점')\n",
        "mean_score"
      ]
    },
    {
      "cell_type": "code",
      "execution_count": null,
      "metadata": {
        "scrolled": true,
        "id": "lhZ0AJ6acLoF"
      },
      "outputs": [],
      "source": [
        "review_cnt = pd.merge(cnt, mean_score, on='상품명', how='inner')\n",
        "review_cnt"
      ]
    },
    {
      "cell_type": "code",
      "execution_count": null,
      "metadata": {
        "id": "hyfRTWbtcLoG"
      },
      "outputs": [],
      "source": [
        "review_cnt[(review_cnt['cnt_order']>=50) & (review_cnt['cnt_review']>=10)].sort_values(by='cnt_order', ascending=False)"
      ]
    },
    {
      "cell_type": "code",
      "execution_count": null,
      "metadata": {
        "id": "7awOzuTWcLoG"
      },
      "outputs": [],
      "source": [
        "# review_cnt.to_csv('./cnt.csv')"
      ]
    }
  ],
  "metadata": {
    "colab": {
      "provenance": [],
      "include_colab_link": true
    },
    "kernelspec": {
      "display_name": "Python 3 (ipykernel)",
      "language": "python",
      "name": "python3"
    },
    "language_info": {
      "codemirror_mode": {
        "name": "ipython",
        "version": 3
      },
      "file_extension": ".py",
      "mimetype": "text/x-python",
      "name": "python",
      "nbconvert_exporter": "python",
      "pygments_lexer": "ipython3",
      "version": "3.9.12"
    },
    "toc": {
      "base_numbering": 1,
      "nav_menu": {
        "height": "232px",
        "width": "274px"
      },
      "number_sections": true,
      "sideBar": true,
      "skip_h1_title": false,
      "title_cell": "Table of Contents",
      "title_sidebar": "Contents",
      "toc_cell": false,
      "toc_position": {},
      "toc_section_display": true,
      "toc_window_display": false
    }
  },
  "nbformat": 4,
  "nbformat_minor": 0
}